{
 "cells": [
  {
   "cell_type": "code",
   "execution_count": 1,
   "metadata": {},
   "outputs": [],
   "source": [
    "import bs4 as bs\n",
    "import urllib.request\n",
    "import spacy"
   ]
  },
  {
   "cell_type": "code",
   "execution_count": 22,
   "metadata": {},
   "outputs": [],
   "source": [
    "# read in urls and separate into paragraphs\n",
    "\n",
    "def url_to_paragraph(url_):\n",
    "\n",
    "    url_obj = urllib.request.urlopen(url_)\n",
    "\n",
    "    page_data = bs.BeautifulSoup(url_obj, 'lxml')\n",
    "\n",
    "    paragraphs = page_data.find_all('p')\n",
    "\n",
    "    paragraph_list = []\n",
    "\n",
    "    for p in paragraphs:\n",
    "        paragraph_list.append(p.text)\n",
    "    \n",
    "    return paragraph_list\n",
    "\n",
    "# URLs\n",
    "jimi = 'https://en.wikipedia.org/wiki/Jimi_Hendrix'\n",
    "jerry = 'https://en.wikipedia.org/wiki/Jerry_Garcia'\n",
    "eric = 'https://en.wikipedia.org/wiki/Eric_Andr%C3%A9'\n",
    "\n"
   ]
  },
  {
   "cell_type": "code",
   "execution_count": 23,
   "metadata": {},
   "outputs": [
    {
     "name": "stdout",
     "output_type": "stream",
     "text": [
      "James Marshall \"Jimi\" Hendrix (born Johnny Allen Hendrix; November 27, 1942 – September 18, 1970) was an American musician, singer, and songwriter. Although his mainstream career spanned only four years, he is widely regarded as one of the most influential electric guitarists in the history of popular music, and one of the most celebrated musicians of the 20th century. The Rock and Roll Hall of Fame describes him as \"arguably the greatest instrumentalist in the history of rock music\".[1]\n",
      "\n",
      "Jerome John Garcia (August 1, 1942 – August 9, 1995)[1][2][3][4] was an American guitarist, singer and songwriter, best known for being a principal songwriter, the lead guitarist and a vocalist with the rock band the Grateful Dead, of which he was a founding member and which came to prominence during the counterculture of the 1960s.[5][6] Although he disavowed the role, Garcia was viewed by many as the leader of the band.[7][8][9]\n",
      "\n",
      "Eric Samuel André[1] (born April 4, 1983) is an American stand-up comedian, actor, television host, writer, and producer. He is best known as the creator, host, and co-writer of the Adult Swim comedy series The Eric Andre Show (2012–present). He also played Mike on the FXX series Man Seeking Woman (2015–2017) and voiced Azizi in the remake of The Lion King (2019). He performs music under the name Blarf.\n",
      "\n"
     ]
    }
   ],
   "source": [
    "# Get intro paragraph for each\n",
    "jimi_p = url_to_paragraph(jimi)[1]\n",
    "jerry_p = url_to_paragraph(jerry)[1]\n",
    "eric_p = url_to_paragraph(eric)[1]\n",
    "\n",
    "all_p = jimi_p,jerry_p,eric_p\n",
    "\n",
    "print(jimi_p)\n",
    "print(jerry_p)\n",
    "print(eric_p)"
   ]
  },
  {
   "cell_type": "code",
   "execution_count": 24,
   "metadata": {},
   "outputs": [
    {
     "name": "stdout",
     "output_type": "stream",
     "text": [
      "['James Marshall \"Jimi\" Hendrix (born Johnny Allen Hendrix; November 27, 1942\\xa0– September 18, 1970) was an American musician, singer, and songwriter. Although his mainstream career spanned only four years, he is widely regarded as one of the most influential electric guitarists in the history of popular music, and one of the most celebrated musicians of the 20th century. The Rock and Roll Hall of Fame describes him as \"arguably the greatest instrumentalist in the history of rock music\".\\n', 'Jerome John Garcia (August 1, 1942\\xa0– August 9, 1995) was an American guitarist, singer and songwriter, best known for being a principal songwriter, the lead guitarist and a vocalist with the rock band the Grateful Dead, of which he was a founding member and which came to prominence during the counterculture of the 1960s. Although he disavowed the role, Garcia was viewed by many as the leader of the band.\\n', 'Eric Samuel André (born April 4, 1983) is an American stand-up comedian, actor, television host, writer, and producer. He is best known as the creator, host, and co-writer of the Adult Swim comedy series The Eric Andre Show (2012–present). He also played Mike on the FXX series Man Seeking Woman (2015–2017) and voiced Azizi in the remake of The Lion King (2019). He performs music under the name Blarf.\\n']\n"
     ]
    }
   ],
   "source": [
    "import regex as re\n",
    "\n",
    "# remove references\n",
    "def rm_refs(wiki_text):\n",
    "    return re.sub(r'\\[[0-9]*\\]', '', wiki_text)\n",
    "\n",
    "all_p = [rm_refs(i) for i in all_p]\n",
    "\n",
    "print(all_p)"
   ]
  },
  {
   "cell_type": "code",
   "execution_count": 25,
   "metadata": {},
   "outputs": [
    {
     "data": {
      "text/plain": [
       "3"
      ]
     },
     "execution_count": 25,
     "metadata": {},
     "output_type": "execute_result"
    }
   ],
   "source": [
    "# parse each paragraph into separate docs with spaCy pipeline\n",
    "\n",
    "nlp = spacy.load('en_core_web_lg')\n",
    "\n",
    "all_docs = [nlp(i) for i in all_p]\n",
    "\n",
    "len(all_docs)"
   ]
  },
  {
   "cell_type": "code",
   "execution_count": 31,
   "metadata": {},
   "outputs": [
    {
     "data": {
      "text/plain": [
       "[[James,\n",
       "  Marshall,\n",
       "  Jimi,\n",
       "  Hendrix,\n",
       "  born,\n",
       "  Johnny,\n",
       "  Allen,\n",
       "  Hendrix,\n",
       "  November,\n",
       "   ,\n",
       "  September,\n",
       "  American,\n",
       "  musician,\n",
       "  singer,\n",
       "  songwriter,\n",
       "  mainstream,\n",
       "  career,\n",
       "  spanned,\n",
       "  years,\n",
       "  widely,\n",
       "  regarded,\n",
       "  influential,\n",
       "  electric,\n",
       "  guitarists,\n",
       "  history,\n",
       "  popular,\n",
       "  music,\n",
       "  celebrated,\n",
       "  musicians,\n",
       "  century,\n",
       "  Rock,\n",
       "  Roll,\n",
       "  Hall,\n",
       "  Fame,\n",
       "  describes,\n",
       "  arguably,\n",
       "  greatest,\n",
       "  instrumentalist,\n",
       "  history,\n",
       "  rock,\n",
       "  music,\n",
       "  ],\n",
       " [Jerome,\n",
       "  John,\n",
       "  Garcia,\n",
       "  August,\n",
       "   ,\n",
       "  August,\n",
       "  American,\n",
       "  guitarist,\n",
       "  singer,\n",
       "  songwriter,\n",
       "  best,\n",
       "  known,\n",
       "  principal,\n",
       "  songwriter,\n",
       "  lead,\n",
       "  guitarist,\n",
       "  vocalist,\n",
       "  rock,\n",
       "  band,\n",
       "  Grateful,\n",
       "  Dead,\n",
       "  founding,\n",
       "  member,\n",
       "  came,\n",
       "  prominence,\n",
       "  counterculture,\n",
       "  1960s,\n",
       "  disavowed,\n",
       "  role,\n",
       "  Garcia,\n",
       "  viewed,\n",
       "  leader,\n",
       "  band,\n",
       "  ],\n",
       " [Eric,\n",
       "  Samuel,\n",
       "  André,\n",
       "  born,\n",
       "  April,\n",
       "  American,\n",
       "  stand,\n",
       "  comedian,\n",
       "  actor,\n",
       "  television,\n",
       "  host,\n",
       "  writer,\n",
       "  producer,\n",
       "  best,\n",
       "  known,\n",
       "  creator,\n",
       "  host,\n",
       "  co,\n",
       "  writer,\n",
       "  Adult,\n",
       "  Swim,\n",
       "  comedy,\n",
       "  series,\n",
       "  Eric,\n",
       "  Andre,\n",
       "  present,\n",
       "  played,\n",
       "  Mike,\n",
       "  FXX,\n",
       "  series,\n",
       "  Man,\n",
       "  Seeking,\n",
       "  Woman,\n",
       "  2015–2017,\n",
       "  voiced,\n",
       "  Azizi,\n",
       "  remake,\n",
       "  Lion,\n",
       "  King,\n",
       "  performs,\n",
       "  music,\n",
       "  Blarf,\n",
       "  ]]"
      ]
     },
     "execution_count": 31,
     "metadata": {},
     "output_type": "execute_result"
    }
   ],
   "source": [
    "# filter out stop words and punctuation\n",
    "def rm_stop_punct(doc_):\n",
    "    return [i for i in doc_ if not i.is_stop | i.is_punct | i.like_num]\n",
    "\n",
    "all_docs_filtered = [rm_stop_punct(i) for i in all_docs]\n",
    "\n",
    "all_docs_filtered"
   ]
  },
  {
   "cell_type": "code",
   "execution_count": 32,
   "metadata": {},
   "outputs": [
    {
     "name": "stdout",
     "output_type": "stream",
     "text": [
      "(300,)\n"
     ]
    }
   ],
   "source": [
    "# Check length of vector \n",
    "\n",
    "print(all_docs_filtered[0][0].vector.shape)"
   ]
  },
  {
   "cell_type": "code",
   "execution_count": 33,
   "metadata": {},
   "outputs": [
    {
     "name": "stdout",
     "output_type": "stream",
     "text": [
      "[(300,), (300,), (300,)]\n"
     ]
    }
   ],
   "source": [
    "import numpy as np\n",
    "\n",
    "# compute mean word vector across all word vectors in each paragraph\n",
    "\n",
    "def mean_vector(paragraph):\n",
    "\n",
    "    vec_list = [i.vector for i in paragraph]\n",
    "\n",
    "    vec_matrix = np.vstack(vec_list) # source: https://numpy.org/doc/stable/reference/generated/numpy.vstack.html\n",
    "    \n",
    "    vec_mean = np.mean(vec_matrix, axis = 0)\n",
    "\n",
    "    return vec_mean\n",
    "\n",
    "vec_means = [mean_vector(i) for i in all_docs_filtered]\n",
    "\n",
    "# check vec shape\n",
    "print([i.shape for i in vec_means])\n",
    "\n"
   ]
  },
  {
   "cell_type": "code",
   "execution_count": 34,
   "metadata": {},
   "outputs": [
    {
     "data": {
      "text/html": [
       "<div>\n",
       "<style scoped>\n",
       "    .dataframe tbody tr th:only-of-type {\n",
       "        vertical-align: middle;\n",
       "    }\n",
       "\n",
       "    .dataframe tbody tr th {\n",
       "        vertical-align: top;\n",
       "    }\n",
       "\n",
       "    .dataframe thead th {\n",
       "        text-align: right;\n",
       "    }\n",
       "</style>\n",
       "<table border=\"1\" class=\"dataframe\">\n",
       "  <thead>\n",
       "    <tr style=\"text-align: right;\">\n",
       "      <th></th>\n",
       "      <th>0</th>\n",
       "      <th>1</th>\n",
       "      <th>similarity_score</th>\n",
       "    </tr>\n",
       "  </thead>\n",
       "  <tbody>\n",
       "    <tr>\n",
       "      <th>jimi_jerry</th>\n",
       "      <td>[0.11499475, 0.21315666, 0.2386528, -0.0022376...</td>\n",
       "      <td>[0.11063382, 0.2448712, 0.09534839, 0.09273279...</td>\n",
       "      <td>-0.899244</td>\n",
       "    </tr>\n",
       "    <tr>\n",
       "      <th>jerry_eric</th>\n",
       "      <td>[0.11063382, 0.2448712, 0.09534839, 0.09273279...</td>\n",
       "      <td>[-0.0011254473, 0.07978913, 0.055970144, -0.01...</td>\n",
       "      <td>-0.784791</td>\n",
       "    </tr>\n",
       "    <tr>\n",
       "      <th>eric_jimi</th>\n",
       "      <td>[0.11499475, 0.21315666, 0.2386528, -0.0022376...</td>\n",
       "      <td>[-0.0011254473, 0.07978913, 0.055970144, -0.01...</td>\n",
       "      <td>-0.796800</td>\n",
       "    </tr>\n",
       "  </tbody>\n",
       "</table>\n",
       "</div>"
      ],
      "text/plain": [
       "                                                            0  \\\n",
       "jimi_jerry  [0.11499475, 0.21315666, 0.2386528, -0.0022376...   \n",
       "jerry_eric  [0.11063382, 0.2448712, 0.09534839, 0.09273279...   \n",
       "eric_jimi   [0.11499475, 0.21315666, 0.2386528, -0.0022376...   \n",
       "\n",
       "                                                            1  \\\n",
       "jimi_jerry  [0.11063382, 0.2448712, 0.09534839, 0.09273279...   \n",
       "jerry_eric  [-0.0011254473, 0.07978913, 0.055970144, -0.01...   \n",
       "eric_jimi   [-0.0011254473, 0.07978913, 0.055970144, -0.01...   \n",
       "\n",
       "            similarity_score  \n",
       "jimi_jerry         -0.899244  \n",
       "jerry_eric         -0.784791  \n",
       "eric_jimi          -0.796800  "
      ]
     },
     "execution_count": 34,
     "metadata": {},
     "output_type": "execute_result"
    }
   ],
   "source": [
    "from keras.losses import cosine_similarity\n",
    "import pandas as pd\n",
    "# Use cosine similarity to create similarity scores between each pair of mean word vectors.\n",
    "\n",
    "jimi_jerry = vec_means[:2] \n",
    "jerry_eric = vec_means[1:]\n",
    "eric_jimi = vec_means[::2]\n",
    "\n",
    "vec_sim_df = pd.DataFrame(index=['jimi_jerry','jerry_eric','eric_jimi'],\n",
    "                        data= [jimi_jerry, jerry_eric, eric_jimi] )\n",
    "\n",
    "\n",
    "vec_sim_df['similarity_score'] = vec_sim_df\\\n",
    "    .apply(lambda row: cosine_similarity(row[0],row[1]).numpy(),axis=1)\n",
    "\n",
    "vec_sim_df\n"
   ]
  },
  {
   "cell_type": "markdown",
   "metadata": {},
   "source": [
    "# Similarity Between Articles:\n",
    "\n",
    "##      The above results indicate that the articles are very similar. Each word was converted into a single row, 300 column vector where each value of that vector represents relatedness of other words. Each paragraph's list of vectorized words were averaged, representing an overall 'ness' of the words. The three averaged vectors representing each paragraph have high cosine similarity with each other. This means they share many words with high likelihood of being semantic neighbors. \n",
    "\n",
    "##      The most similar pair are Jimi Hendrix and Jerry Garcia. This makes sense as they are both highly influential musicians. The least similar are Eric Andre and Jerry Garcia, however, -0.78 out of a -1 to 1 is still relatively similar. This is most likely due to that fact that these two corpus's are both describing a famous person. The similarity would most likely be derrived from the adjectives/similar adjectives used to describe both of them. \n",
    "\n",
    "##      This model could be used on a large scale to do topic detection. Since topic modelling would result in a network of cosine similarity values that may become too complex to interpret, you could use this model to find the most semantically similar corpus's to a specified document.\n"
   ]
  }
 ],
 "metadata": {
  "interpreter": {
   "hash": "2fce786dda715c173643f1fcc529d53e5695c35a7e35ec6d55040681bbb197bf"
  },
  "kernelspec": {
   "display_name": "Python 3.6.12 64-bit ('NLP': conda)",
   "name": "python3"
  },
  "language_info": {
   "codemirror_mode": {
    "name": "ipython",
    "version": 3
   },
   "file_extension": ".py",
   "mimetype": "text/x-python",
   "name": "python",
   "nbconvert_exporter": "python",
   "pygments_lexer": "ipython3",
   "version": "3.6.12"
  },
  "orig_nbformat": 4
 },
 "nbformat": 4,
 "nbformat_minor": 2
}
