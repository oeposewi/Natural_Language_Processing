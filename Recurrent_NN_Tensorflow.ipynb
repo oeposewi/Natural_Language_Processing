{
  "cells": [
    {
      "cell_type": "code",
      "execution_count": 1,
      "metadata": {
        "colab": {
          "base_uri": "https://localhost:8080/",
          "height": 423
        },
        "id": "L_tDDLnq13in",
        "outputId": "a310b1ce-5f3a-4e53-c381-66992b5267f2"
      },
      "outputs": [
        {
          "data": {
            "text/html": [
              "<div>\n",
              "<style scoped>\n",
              "    .dataframe tbody tr th:only-of-type {\n",
              "        vertical-align: middle;\n",
              "    }\n",
              "\n",
              "    .dataframe tbody tr th {\n",
              "        vertical-align: top;\n",
              "    }\n",
              "\n",
              "    .dataframe thead th {\n",
              "        text-align: right;\n",
              "    }\n",
              "</style>\n",
              "<table border=\"1\" class=\"dataframe\">\n",
              "  <thead>\n",
              "    <tr style=\"text-align: right;\">\n",
              "      <th></th>\n",
              "      <th>Entry</th>\n",
              "      <th>Year</th>\n",
              "      <th>Endorsements</th>\n",
              "      <th>Internal</th>\n",
              "      <th>Count</th>\n",
              "      <th>Sentences</th>\n",
              "      <th>External</th>\n",
              "    </tr>\n",
              "  </thead>\n",
              "  <tbody>\n",
              "    <tr>\n",
              "      <th>0</th>\n",
              "      <td>1.0</td>\n",
              "      <td>2000.0</td>\n",
              "      <td>948.0</td>\n",
              "      <td>0.89</td>\n",
              "      <td>8.0</td>\n",
              "      <td>Sleep induction (time it takes you to fall asl...</td>\n",
              "      <td>2.410</td>\n",
              "    </tr>\n",
              "    <tr>\n",
              "      <th>1</th>\n",
              "      <td>2.0</td>\n",
              "      <td>2013.0</td>\n",
              "      <td>522.0</td>\n",
              "      <td>0.85</td>\n",
              "      <td>5.0</td>\n",
              "      <td>It is exciting to figure out new ways to solve...</td>\n",
              "      <td>7.590</td>\n",
              "    </tr>\n",
              "    <tr>\n",
              "      <th>2</th>\n",
              "      <td>3.0</td>\n",
              "      <td>2013.0</td>\n",
              "      <td>522.0</td>\n",
              "      <td>0.72</td>\n",
              "      <td>4.0</td>\n",
              "      <td>Establishing a new company excites me.; Owning...</td>\n",
              "      <td>7.590</td>\n",
              "    </tr>\n",
              "    <tr>\n",
              "      <th>3</th>\n",
              "      <td>4.0</td>\n",
              "      <td>2013.0</td>\n",
              "      <td>522.0</td>\n",
              "      <td>0.77</td>\n",
              "      <td>4.0</td>\n",
              "      <td>I really like finding the right people to mark...</td>\n",
              "      <td>7.590</td>\n",
              "    </tr>\n",
              "    <tr>\n",
              "      <th>4</th>\n",
              "      <td>5.0</td>\n",
              "      <td>1996.0</td>\n",
              "      <td>2227.0</td>\n",
              "      <td>0.93</td>\n",
              "      <td>6.0</td>\n",
              "      <td>If I should find myself in a jam, I could thin...</td>\n",
              "      <td>5.910</td>\n",
              "    </tr>\n",
              "    <tr>\n",
              "      <th>...</th>\n",
              "      <td>...</td>\n",
              "      <td>...</td>\n",
              "      <td>...</td>\n",
              "      <td>...</td>\n",
              "      <td>...</td>\n",
              "      <td>...</td>\n",
              "      <td>...</td>\n",
              "    </tr>\n",
              "    <tr>\n",
              "      <th>245</th>\n",
              "      <td>246.0</td>\n",
              "      <td>2016.0</td>\n",
              "      <td>92.0</td>\n",
              "      <td>0.81</td>\n",
              "      <td>3.0</td>\n",
              "      <td>Watching Facebook posts is good for overcoming...</td>\n",
              "      <td>2.311</td>\n",
              "    </tr>\n",
              "    <tr>\n",
              "      <th>246</th>\n",
              "      <td>247.0</td>\n",
              "      <td>2016.0</td>\n",
              "      <td>92.0</td>\n",
              "      <td>0.72</td>\n",
              "      <td>3.0</td>\n",
              "      <td>I spent time on Facebook at the expense of my ...</td>\n",
              "      <td>2.311</td>\n",
              "    </tr>\n",
              "    <tr>\n",
              "      <th>247</th>\n",
              "      <td>248.0</td>\n",
              "      <td>2016.0</td>\n",
              "      <td>92.0</td>\n",
              "      <td>0.80</td>\n",
              "      <td>3.0</td>\n",
              "      <td>My Facebook profile is rather detailed.;I like...</td>\n",
              "      <td>2.311</td>\n",
              "    </tr>\n",
              "    <tr>\n",
              "      <th>248</th>\n",
              "      <td>249.0</td>\n",
              "      <td>2011.0</td>\n",
              "      <td>453.0</td>\n",
              "      <td>0.86</td>\n",
              "      <td>4.0</td>\n",
              "      <td>Arrange a study group or meeting;Collaborate o...</td>\n",
              "      <td>3.459</td>\n",
              "    </tr>\n",
              "    <tr>\n",
              "      <th>249</th>\n",
              "      <td>250.0</td>\n",
              "      <td>2007.0</td>\n",
              "      <td>13469.0</td>\n",
              "      <td>0.83</td>\n",
              "      <td>8.0</td>\n",
              "      <td>About how many total Facebook friends do you h...</td>\n",
              "      <td>4.896</td>\n",
              "    </tr>\n",
              "  </tbody>\n",
              "</table>\n",
              "<p>250 rows × 7 columns</p>\n",
              "</div>"
            ],
            "text/plain": [
              "     Entry    Year  Endorsements  Internal  Count  \\\n",
              "0      1.0  2000.0         948.0      0.89    8.0   \n",
              "1      2.0  2013.0         522.0      0.85    5.0   \n",
              "2      3.0  2013.0         522.0      0.72    4.0   \n",
              "3      4.0  2013.0         522.0      0.77    4.0   \n",
              "4      5.0  1996.0        2227.0      0.93    6.0   \n",
              "..     ...     ...           ...       ...    ...   \n",
              "245  246.0  2016.0          92.0      0.81    3.0   \n",
              "246  247.0  2016.0          92.0      0.72    3.0   \n",
              "247  248.0  2016.0          92.0      0.80    3.0   \n",
              "248  249.0  2011.0         453.0      0.86    4.0   \n",
              "249  250.0  2007.0       13469.0      0.83    8.0   \n",
              "\n",
              "                                             Sentences  External  \n",
              "0    Sleep induction (time it takes you to fall asl...     2.410  \n",
              "1    It is exciting to figure out new ways to solve...     7.590  \n",
              "2    Establishing a new company excites me.; Owning...     7.590  \n",
              "3    I really like finding the right people to mark...     7.590  \n",
              "4    If I should find myself in a jam, I could thin...     5.910  \n",
              "..                                                 ...       ...  \n",
              "245  Watching Facebook posts is good for overcoming...     2.311  \n",
              "246  I spent time on Facebook at the expense of my ...     2.311  \n",
              "247  My Facebook profile is rather detailed.;I like...     2.311  \n",
              "248  Arrange a study group or meeting;Collaborate o...     3.459  \n",
              "249  About how many total Facebook friends do you h...     4.896  \n",
              "\n",
              "[250 rows x 7 columns]"
            ]
          },
          "execution_count": 1,
          "metadata": {},
          "output_type": "execute_result"
        }
      ],
      "source": [
        "# Read in data\n",
        "\n",
        "import pandas as pd\n",
        "\n",
        "url = 'SentenceQualitySlim.csv'\n",
        "\n",
        "data = pd.read_csv(url, encoding='utf-8')\n",
        "\n",
        "# drop na rows\n",
        "data = data.dropna(how='all')\n",
        "\n",
        "# convert sentences column to string\n",
        "data['Sentences'] = data['Sentences'].astype(str)\n",
        "\n",
        "data"
      ]
    },
    {
      "cell_type": "code",
      "execution_count": 2,
      "metadata": {
        "id": "5EdGDn0t2DHd"
      },
      "outputs": [],
      "source": [
        "# Clean the text\n",
        "\n",
        "import spacy\n",
        "from spacy.tokenizer import Tokenizer\n",
        "from spacy.lang.en import English\n",
        "import re\n",
        "\n",
        "nlp = English()\n",
        "tokenizer = nlp.tokenizer\n",
        "\n",
        "def clean_text(text_):\n",
        "  \n",
        "  # remove semicolons\n",
        "  text_ = re.sub(r';', ' ', text_)\n",
        "  \n",
        "  # tokenize\n",
        "  doc = tokenizer(text_)\n",
        "\n",
        "  # remove punctuation and whitespaces\n",
        "  tokens = [i.text.lower() for i in doc if not (i.is_punct or i.is_space)]\n",
        "\n",
        "  return tokens"
      ]
    },
    {
      "cell_type": "code",
      "execution_count": 3,
      "metadata": {
        "colab": {
          "base_uri": "https://localhost:8080/"
        },
        "id": "CC33ss4xw8pY",
        "outputId": "218fa556-b578-4ab0-c643-01a580b14857"
      },
      "outputs": [
        {
          "name": "stdout",
          "output_type": "stream",
          "text": [
            "Maximum length row:  324\n"
          ]
        }
      ],
      "source": [
        "# create clean text column\n",
        "data['clean_text'] = data.Sentences.apply(lambda x: clean_text(x))\n",
        "\n",
        "max_len_row = max(data.clean_text.apply(len))\n",
        "print('Maximum length row: ',max_len_row)"
      ]
    },
    {
      "cell_type": "code",
      "execution_count": 4,
      "metadata": {
        "colab": {
          "base_uri": "https://localhost:8080/"
        },
        "id": "Qt7oJx863m3P",
        "outputId": "75b10893-b10d-4754-b93c-23954e63d8db"
      },
      "outputs": [
        {
          "name": "stdout",
          "output_type": "stream",
          "text": [
            "vocabulary size without PAD:  2555\n",
            "Vovabulary size including PAD:  2556\n"
          ]
        }
      ],
      "source": [
        "# create a word2index array\n",
        "\n",
        "from collections import Counter\n",
        "\n",
        "all_tokens = data.clean_text.values.tolist()\n",
        "all_tokens = [word for sublist in all_tokens for word in sublist]\n",
        "\n",
        "counter = Counter(all_tokens)\n",
        "word2index = list(counter.keys())\n",
        "print('vocabulary size without PAD: ', len(word2index))\n",
        "\n",
        "word2index.insert(0, 'PAD')\n",
        "print('Vovabulary size including PAD: ', len(word2index))"
      ]
    },
    {
      "cell_type": "code",
      "execution_count": 5,
      "metadata": {
        "colab": {
          "base_uri": "https://localhost:8080/"
        },
        "id": "QvbIo4UAFuST",
        "outputId": "ecd44257-b16b-4537-88e3-407b8d8d96b5"
      },
      "outputs": [],
      "source": [
        "# Import word vectors\n",
        "import gensim.downloader as api\n",
        "\n",
        "wv = api.load('glove-wiki-gigaword-50')"
      ]
    },
    {
      "cell_type": "code",
      "execution_count": 6,
      "metadata": {
        "colab": {
          "base_uri": "https://localhost:8080/"
        },
        "id": "uSyA8Oxm77dB",
        "outputId": "6019f702-e7fe-4a00-fa26-0f899c4e252a"
      },
      "outputs": [
        {
          "name": "stdout",
          "output_type": "stream",
          "text": [
            "Num words OOV:  28\n",
            "['PAD', 'inorning', 'exercrse', 'morethan', 'indeciding']\n"
          ]
        }
      ],
      "source": [
        "import numpy as np\n",
        "\n",
        "# Make list of integer values for each row\n",
        "data['integer_values'] = data.clean_text.apply(lambda tokens: [word2index.index(token) for token in tokens])\n",
        "\n",
        "# Make list of Vector values for each row\n",
        "data['vector_values'] = data.clean_text.apply(lambda tokens: [wv[token] if (token in wv) else np.random.uniform(-.1,.1, 50) for token in tokens])\n",
        "\n",
        "# count how many vectors OOV\n",
        "rand_vecs = [i for i in word2index if not (i in wv)]\n",
        "print('Num words OOV: ', len(rand_vecs)-1) # excludes PAD\n",
        "print(rand_vecs[:5])"
      ]
    },
    {
      "cell_type": "code",
      "execution_count": 7,
      "metadata": {
        "colab": {
          "base_uri": "https://localhost:8080/"
        },
        "id": "FaZoAUGcAsCm",
        "outputId": "769311a8-3d67-4b32-ae82-c79c96ba8e86"
      },
      "outputs": [
        {
          "name": "stdout",
          "output_type": "stream",
          "text": [
            "Shape of index value matrix:  (250, 324)\n",
            "Shape of Vector value matrix:  (250, 324, 50)\n"
          ]
        }
      ],
      "source": [
        "# Make Matrix of Values\n",
        "\n",
        "import tensorflow\n",
        "from tensorflow.keras.preprocessing.sequence import pad_sequences\n",
        "\n",
        "# index value matrix\n",
        "sequences_indices = data.integer_values.values.tolist()\n",
        "matrix_indices = pad_sequences(sequences=sequences_indices, padding = 'post')\n",
        "print('Shape of index value matrix: ',matrix_indices.shape)\n",
        "\n",
        "# Vector Matrix\n",
        "sequences_vecs = data.vector_values.values.tolist()\n",
        "matrix_vecs = pad_sequences(sequences=sequences_vecs, padding='post')\n",
        "print('Shape of Vector value matrix: ', matrix_vecs.shape)"
      ]
    },
    {
      "cell_type": "code",
      "execution_count": 8,
      "metadata": {},
      "outputs": [
        {
          "data": {
            "text/plain": [
              "(2556, 50)"
            ]
          },
          "execution_count": 8,
          "metadata": {},
          "output_type": "execute_result"
        }
      ],
      "source": [
        "# Create an embedding matrix of shape (vocab_length+1, vector length)\n",
        "\n",
        "embedding_matrix = np.zeros((len(word2index), 50))\n",
        "\n",
        "for i, word in enumerate(word2index):\n",
        "    if word in wv:\n",
        "        embedding_matrix[i] = wv[word]\n",
        "    else:\n",
        "        embedding_matrix[i] = np.random.uniform(-.1,.1, 50)\n",
        "\n",
        "embedding_matrix.shape"
      ]
    },
    {
      "cell_type": "code",
      "execution_count": 9,
      "metadata": {
        "id": "XI5XVEQP2EKW"
      },
      "outputs": [],
      "source": [
        "# Data split\n",
        "\n",
        "import sklearn\n",
        "from sklearn.model_selection import train_test_split\n",
        "\n",
        "def split_data(x_input, y_input):\n",
        "    # Split Indexing Data\n",
        "    x_train,  x_test,  y_train,  y_test  = train_test_split(x_input, \n",
        "                                                            data[[y_input]].values, \n",
        "                                                            test_size=.2, \n",
        "                                                            random_state=0\n",
        "                                                            )\n",
        "    return x_train, x_test, y_train, y_test"
      ]
    },
    {
      "cell_type": "markdown",
      "metadata": {
        "id": "a0J6hTctS96a"
      },
      "source": [
        "# Predict Endorsements"
      ]
    },
    {
      "cell_type": "code",
      "execution_count": 10,
      "metadata": {
        "colab": {
          "base_uri": "https://localhost:8080/",
          "height": 439
        },
        "id": "Cvy64ksmTBBL",
        "outputId": "34ce63f0-7965-46d9-ec32-82fdbe43af05"
      },
      "outputs": [
        {
          "name": "stdout",
          "output_type": "stream",
          "text": [
            "count      250.000000\n",
            "mean       645.768000\n",
            "std       1704.310286\n",
            "min          1.000000\n",
            "25%         64.250000\n",
            "50%        139.000000\n",
            "75%        380.500000\n",
            "max      15461.000000\n",
            "Name: Endorsements, dtype: float64\n"
          ]
        },
        {
          "data": {
            "text/plain": [
              "<matplotlib.axes._subplots.AxesSubplot at 0x221ef0d5a90>"
            ]
          },
          "execution_count": 10,
          "metadata": {},
          "output_type": "execute_result"
        }
      ],
      "source": [
        "# Plot Endorsement ditribution\n",
        "\n",
        "print(data.Endorsements.describe())\n",
        "\n",
        "data.Endorsements.plot.hist()"
      ]
    },
    {
      "cell_type": "code",
      "execution_count": 11,
      "metadata": {
        "id": "D8pLWbyh2EOX"
      },
      "outputs": [
        {
          "name": "stderr",
          "output_type": "stream",
          "text": [
            "Using TensorFlow backend.\n"
          ]
        },
        {
          "name": "stdout",
          "output_type": "stream",
          "text": [
            "Model: \"sequential_1\"\n",
            "_________________________________________________________________\n",
            "Layer (type)                 Output Shape              Param #   \n",
            "=================================================================\n",
            "embedding_1 (Embedding)      (None, 324, 50)           127800    \n",
            "_________________________________________________________________\n",
            "simple_rnn_1 (SimpleRNN)     (None, 128)               22912     \n",
            "_________________________________________________________________\n",
            "dense_1 (Dense)              (None, 1)                 129       \n",
            "=================================================================\n",
            "Total params: 150,841\n",
            "Trainable params: 150,841\n",
            "Non-trainable params: 0\n",
            "_________________________________________________________________\n"
          ]
        }
      ],
      "source": [
        "# build model\n",
        "\n",
        "import tensorflow as tf\n",
        "from keras import layers\n",
        "from keras.models import Sequential\n",
        "from keras.layers import Dense, Activation, Embedding, LSTM, GRU, SimpleRNN\n",
        "\n",
        "model = Sequential()\n",
        "\n",
        "# Add an embedding layer\n",
        "model.add(\n",
        "    Embedding(\n",
        "        input_dim=len(word2index),  # Integer. Size of the vocabulary in the text data\n",
        "        output_dim=50,              # Integer. Dimension of the dense embedding.\n",
        "        input_length=max_len_row,   # Length of input sequences, when it is constant. \n",
        "        weights = [embedding_matrix],\n",
        "        trainable=True\n",
        "    )\n",
        ")\n",
        "\n",
        "# Add a Simple RNN Layer\n",
        "model.add(SimpleRNN(\n",
        "    128,                    # Positive integer, dimensionality of the output space.\n",
        "    return_sequences=False  # Boolean. Whether to return the last output in the output sequence, or the full sequence.\n",
        "))\n",
        "\n",
        "# Add a Dense Layer\n",
        "model.add(Dense(\n",
        "    1,                       # Positive integer, dimensionality of the output space.\n",
        "    activation=\"relu\"        # Activation function to use. If you don't specify anything, no activation is applied\n",
        "))\n",
        "\n",
        "\n",
        "model.compile(loss='mse',           # Loss function. Maybe be a string (name of loss function), or a tf.keras.losses.Loss instance.\n",
        "              optimizer='adam',     # String (name of optimizer) or optimizer instance.\n",
        "              metrics=['mse'])      # List of metrics to be evaluated by the model during training and testing. \n",
        "model.summary()"
      ]
    },
    {
      "cell_type": "code",
      "execution_count": 12,
      "metadata": {},
      "outputs": [
        {
          "name": "stdout",
          "output_type": "stream",
          "text": [
            "(200, 324)\n",
            "(50, 324)\n",
            "(200, 1)\n",
            "(50, 1)\n"
          ]
        }
      ],
      "source": [
        "# Split data on Endorsements\n",
        "x_train, x_test, y_train, y_test = split_data(matrix_indices, 'Endorsements')\n",
        "\n",
        "print(x_train.shape)\n",
        "print(x_test.shape)\n",
        "print(y_train.shape)\n",
        "print(y_test.shape)\n"
      ]
    },
    {
      "cell_type": "code",
      "execution_count": 13,
      "metadata": {
        "id": "s_UnLQHVUe1F"
      },
      "outputs": [
        {
          "name": "stderr",
          "output_type": "stream",
          "text": [
            "C:\\Users\\olive\\anaconda3\\envs\\nlp_tf\\lib\\site-packages\\tensorflow_core\\python\\framework\\indexed_slices.py:433: UserWarning: Converting sparse IndexedSlices to a dense Tensor of unknown shape. This may consume a large amount of memory.\n",
            "  \"Converting sparse IndexedSlices to a dense Tensor of unknown shape. \"\n"
          ]
        },
        {
          "name": "stdout",
          "output_type": "stream",
          "text": [
            "Train on 200 samples, validate on 50 samples\n",
            "Epoch 1/20\n",
            "200/200 [==============================] - 6s 29ms/step - loss: 3615286.7664 - mse: 3615287.0000 - val_loss: 2052180.1603 - val_mse: 2052180.0000\n",
            "Epoch 2/20\n",
            "200/200 [==============================] - 5s 24ms/step - loss: 3608221.4082 - mse: 3608221.0000 - val_loss: 2047617.5994 - val_mse: 2047617.7500\n",
            "Epoch 3/20\n",
            "200/200 [==============================] - 5s 23ms/step - loss: 3604963.9889 - mse: 3604964.2500 - val_loss: 2044584.2292 - val_mse: 2044584.1250\n",
            "Epoch 4/20\n",
            "200/200 [==============================] - 5s 24ms/step - loss: 3602383.8627 - mse: 3602383.2500 - val_loss: 2041978.2347 - val_mse: 2041978.2500\n",
            "Epoch 5/20\n",
            "200/200 [==============================] - 5s 24ms/step - loss: 3596001.9190 - mse: 3596001.5000 - val_loss: 2039109.7712 - val_mse: 2039109.7500\n",
            "Epoch 6/20\n",
            "200/200 [==============================] - 5s 23ms/step - loss: 3592955.7026 - mse: 3592956.5000 - val_loss: 2036657.4781 - val_mse: 2036657.2500\n",
            "Epoch 7/20\n",
            "200/200 [==============================] - 5s 24ms/step - loss: 3589241.5209 - mse: 3589241.5000 - val_loss: 2034250.1776 - val_mse: 2034250.2500\n",
            "Epoch 8/20\n",
            "200/200 [==============================] - 4s 22ms/step - loss: 3585354.9134 - mse: 3585355.5000 - val_loss: 2031475.6310 - val_mse: 2031475.5000\n",
            "Epoch 9/20\n",
            "200/200 [==============================] - 5s 23ms/step - loss: 3580427.5347 - mse: 3580427.5000 - val_loss: 2028843.4667 - val_mse: 2028843.5000\n",
            "Epoch 10/20\n",
            "200/200 [==============================] - 4s 22ms/step - loss: 3577336.6653 - mse: 3577336.7500 - val_loss: 2026218.2388 - val_mse: 2026218.1250\n",
            "Epoch 11/20\n",
            "200/200 [==============================] - 4s 22ms/step - loss: 3574088.8052 - mse: 3574088.7500 - val_loss: 2023853.2836 - val_mse: 2023853.5000\n",
            "Epoch 12/20\n",
            "200/200 [==============================] - 5s 23ms/step - loss: 3571228.4542 - mse: 3571228.5000 - val_loss: 2021519.3141 - val_mse: 2021519.3750\n",
            "Epoch 13/20\n",
            "200/200 [==============================] - 5s 23ms/step - loss: 3568432.4602 - mse: 3568432.7500 - val_loss: 2019054.1017 - val_mse: 2019053.8750\n",
            "Epoch 14/20\n",
            "200/200 [==============================] - 5s 24ms/step - loss: 3565577.3520 - mse: 3565577.2500 - val_loss: 2016721.9477 - val_mse: 2016721.8750\n",
            "Epoch 15/20\n",
            "200/200 [==============================] - 5s 24ms/step - loss: 3562775.4748 - mse: 3562775.0000 - val_loss: 2014492.8695 - val_mse: 2014493.1250\n",
            "Epoch 16/20\n",
            "200/200 [==============================] - 5s 24ms/step - loss: 3560068.2063 - mse: 3560067.7500 - val_loss: 2012220.5805 - val_mse: 2012220.6250\n",
            "Epoch 17/20\n",
            "200/200 [==============================] - 5s 23ms/step - loss: 3557332.5968 - mse: 3557332.5000 - val_loss: 2009944.3225 - val_mse: 2009944.3750\n",
            "Epoch 18/20\n",
            "200/200 [==============================] - 5s 23ms/step - loss: 3554511.1478 - mse: 3554511.0000 - val_loss: 2007728.3267 - val_mse: 2007728.5000\n",
            "Epoch 19/20\n",
            "200/200 [==============================] - 5s 23ms/step - loss: 3551805.7893 - mse: 3551806.0000 - val_loss: 2005543.3819 - val_mse: 2005543.3750\n",
            "Epoch 20/20\n",
            "200/200 [==============================] - 5s 23ms/step - loss: 3548912.6748 - mse: 3548912.2500 - val_loss: 2003365.7645 - val_mse: 2003365.6250\n"
          ]
        }
      ],
      "source": [
        "# Fit Model to Endorsements predictions\n",
        "\n",
        "simple = model.fit(\n",
        "    x_train, \n",
        "    y_train, # Endorsements\n",
        "    batch_size=8, \n",
        "    epochs=20,\n",
        "    validation_data=(\n",
        "        x_test, \n",
        "        y_test # Endorsements\n",
        "    )\n",
        ")"
      ]
    },
    {
      "cell_type": "code",
      "execution_count": 14,
      "metadata": {
        "id": "pcZ9Zx7jrh7Z"
      },
      "outputs": [
        {
          "data": {
            "image/png": "[encoded data removed]",
            "text/plain": [
              "<Figure size 432x288 with 1 Axes>"
            ]
          },
          "metadata": {
            "needs_background": "light"
          },
          "output_type": "display_data"
        }
      ],
      "source": [
        "# Plot performance\n",
        "\n",
        "from matplotlib import pyplot as plt\n",
        "\n",
        "x = range(20)\n",
        "plt.plot(x, simple.history['mse'], label=\"Mean Square Error\")\n",
        "\n",
        "plt.title(\"Training Loss: MSE\")\n",
        "plt.legend(loc='center left', bbox_to_anchor=(1, 0.5))\n",
        "plt.show()\n",
        "\n",
        "#plt.plot(x, simple.history['mae'], label=\"Mean Absolute Error\")\n",
        "#plt.title(\"Training Loss: MAE\")\n",
        "#plt.legend(loc='center left', bbox_to_anchor=(1, 0.5))\n",
        "#plt.show()"
      ]
    },
    {
      "cell_type": "markdown",
      "metadata": {},
      "source": [
        "# Predict Internal"
      ]
    },
    {
      "cell_type": "code",
      "execution_count": 15,
      "metadata": {},
      "outputs": [
        {
          "name": "stdout",
          "output_type": "stream",
          "text": [
            "count    250.000000\n",
            "mean       0.814530\n",
            "std        0.094576\n",
            "min        0.460000\n",
            "25%        0.760000\n",
            "50%        0.830000\n",
            "75%        0.880000\n",
            "max        0.980000\n",
            "Name: Internal, dtype: float64\n"
          ]
        },
        {
          "data": {
            "text/plain": [
              "<matplotlib.axes._subplots.AxesSubplot at 0x221cf0ce0f0>"
            ]
          },
          "execution_count": 15,
          "metadata": {},
          "output_type": "execute_result"
        },
        {
          "data": {
            "image/png": "[encoded data removed]",
            "text/plain": [
              "<Figure size 432x288 with 1 Axes>"
            ]
          },
          "metadata": {
            "needs_background": "light"
          },
          "output_type": "display_data"
        }
      ],
      "source": [
        "# Plot Internal Distribution\n",
        "\n",
        "print(data.Internal.describe())\n",
        "\n",
        "data.Internal.plot.hist()"
      ]
    },
    {
      "cell_type": "code",
      "execution_count": 16,
      "metadata": {},
      "outputs": [
        {
          "name": "stdout",
          "output_type": "stream",
          "text": [
            "(200, 324)\n",
            "(50, 324)\n",
            "(200, 1)\n",
            "(50, 1)\n"
          ]
        }
      ],
      "source": [
        "# split data on internal\n",
        "\n",
        "x_train, x_test, y_train, y_test = split_data(matrix_indices, 'Internal')\n",
        "\n",
        "print(x_train.shape)\n",
        "print(x_test.shape)\n",
        "print(y_train.shape)\n",
        "print(y_test.shape)"
      ]
    },
    {
      "cell_type": "code",
      "execution_count": 27,
      "metadata": {},
      "outputs": [
        {
          "name": "stdout",
          "output_type": "stream",
          "text": [
            "Model: \"sequential_8\"\n",
            "_________________________________________________________________\n",
            "Layer (type)                 Output Shape              Param #   \n",
            "=================================================================\n",
            "embedding_8 (Embedding)      (None, 324, 50)           127800    \n",
            "_________________________________________________________________\n",
            "simple_rnn_7 (SimpleRNN)     (None, 324, 300)          105300    \n",
            "_________________________________________________________________\n",
            "dense_7 (Dense)              (None, 324, 1)            301       \n",
            "=================================================================\n",
            "Total params: 233,401\n",
            "Trainable params: 233,401\n",
            "Non-trainable params: 0\n",
            "_________________________________________________________________\n"
          ]
        }
      ],
      "source": [
        "# Build Model for Internal\n",
        "\n",
        "model_internal = Sequential()\n",
        "\n",
        "model_internal.add(\n",
        "    Embedding(\n",
        "        input_dim = len(word2index),\n",
        "        output_dim = 50,\n",
        "        input_length = max_len_row,\n",
        "        weights = [embedding_matrix],\n",
        "        \n",
        "    )\n",
        ")\n",
        "\n",
        "# Add a Simple RNN Layer\n",
        "model_internal.add(SimpleRNN(\n",
        "    300,                    # Positive integer, dimensionality of the output space.\n",
        "    return_sequences=True  # Boolean. Whether to return the last output in the output sequence, or the full sequence.\n",
        "))\n",
        "\n",
        "# Add a Dense Layer\n",
        "model_internal.add(Dense(\n",
        "    1,                       # Positive integer, dimensionality of the output space.\n",
        "    activation=\"relu\"        # Activation function to use. If you don't specify anything, no activation is applied\n",
        "))\n",
        "\n",
        "\n",
        "model_internal.compile(loss='mae',           # Loss function. Maybe be a string (name of loss function), or a tf.keras.losses.Loss instance.\n",
        "              optimizer='adam',     # String (name of optimizer) or optimizer instance.\n",
        "              metrics=['mse', 'mae'])      # List of metrics to be evaluated by the model during training and testing. \n",
        "model_internal.summary()"
      ]
    },
    {
      "cell_type": "code",
      "execution_count": 28,
      "metadata": {},
      "outputs": [
        {
          "name": "stdout",
          "output_type": "stream",
          "text": [
            "(200, 324)\n",
            "(50, 324)\n",
            "(200, 1)\n",
            "(50, 1)\n"
          ]
        }
      ],
      "source": [
        "# Split data on Internal\n",
        "x_train, x_test, y_train, y_test = split_data(matrix_indices, 'Internal')\n",
        "\n",
        "print(x_train.shape)\n",
        "print(x_test.shape)\n",
        "print(y_train.shape)\n",
        "print(y_test.shape)\n"
      ]
    },
    {
      "cell_type": "code",
      "execution_count": 29,
      "metadata": {},
      "outputs": [
        {
          "name": "stdout",
          "output_type": "stream",
          "text": [
            "Train on 200 samples, validate on 50 samples\n",
            "Epoch 1/20\n",
            "200/200 [==============================] - 5s 24ms/step - loss: 2421.2016 - mse: 2421.2014 - val_loss: 2517.9111 - val_mse: 2517.9111\n",
            "Epoch 2/20\n",
            "200/200 [==============================] - 5s 23ms/step - loss: 2390.0925 - mse: 2390.0925 - val_loss: 2485.1028 - val_mse: 2485.1028\n",
            "Epoch 3/20\n",
            "200/200 [==============================] - 5s 23ms/step - loss: 2358.6650 - mse: 2358.6653 - val_loss: 2452.6409 - val_mse: 2452.6409\n",
            "Epoch 4/20\n",
            "200/200 [==============================] - 5s 23ms/step - loss: 2313.9847 - mse: 2313.9846 - val_loss: 2419.8989 - val_mse: 2419.8989\n",
            "Epoch 5/20\n",
            "200/200 [==============================] - 5s 23ms/step - loss: 2282.9333 - mse: 2282.9333 - val_loss: 2386.8644 - val_mse: 2386.8643\n",
            "Epoch 6/20\n",
            "200/200 [==============================] - 5s 23ms/step - loss: 2251.4697 - mse: 2251.4695 - val_loss: 2354.3644 - val_mse: 2354.3643\n",
            "Epoch 7/20\n",
            "200/200 [==============================] - 5s 23ms/step - loss: 2220.3188 - mse: 2220.3188 - val_loss: 2321.3079 - val_mse: 2321.3079\n",
            "Epoch 8/20\n",
            "200/200 [==============================] - 5s 23ms/step - loss: 2188.7969 - mse: 2188.7971 - val_loss: 2288.4772 - val_mse: 2288.4771\n",
            "Epoch 9/20\n",
            "200/200 [==============================] - 5s 23ms/step - loss: 2157.6249 - mse: 2157.6250 - val_loss: 2254.7949 - val_mse: 2254.7949\n",
            "Epoch 10/20\n",
            "200/200 [==============================] - 5s 23ms/step - loss: 2125.7832 - mse: 2125.7832 - val_loss: 2221.9018 - val_mse: 2221.9016\n",
            "Epoch 11/20\n",
            "200/200 [==============================] - 5s 23ms/step - loss: 2094.2500 - mse: 2094.2502 - val_loss: 2188.8773 - val_mse: 2188.8774\n",
            "Epoch 12/20\n",
            "200/200 [==============================] - 5s 23ms/step - loss: 2062.9008 - mse: 2062.9009 - val_loss: 2155.1447 - val_mse: 2155.1445\n",
            "Epoch 13/20\n",
            "200/200 [==============================] - 5s 23ms/step - loss: 2031.0657 - mse: 2031.0657 - val_loss: 2121.9492 - val_mse: 2121.9490\n",
            "Epoch 14/20\n",
            "200/200 [==============================] - 5s 23ms/step - loss: 1999.4857 - mse: 1999.4858 - val_loss: 2088.5868 - val_mse: 2088.5867\n",
            "Epoch 15/20\n",
            "200/200 [==============================] - 5s 23ms/step - loss: 1967.9404 - mse: 1967.9407 - val_loss: 2055.0143 - val_mse: 2055.0142\n",
            "Epoch 16/20\n",
            "200/200 [==============================] - 5s 23ms/step - loss: 1936.1796 - mse: 1936.1796 - val_loss: 2021.8410 - val_mse: 2021.8409\n",
            "Epoch 17/20\n",
            "200/200 [==============================] - 5s 23ms/step - loss: 1904.7810 - mse: 1904.7809 - val_loss: 1988.2054 - val_mse: 1988.2053\n",
            "Epoch 18/20\n",
            "200/200 [==============================] - 5s 23ms/step - loss: 1873.1281 - mse: 1873.1285 - val_loss: 1954.8704 - val_mse: 1954.8705\n",
            "Epoch 19/20\n",
            "200/200 [==============================] - 5s 24ms/step - loss: 1841.3503 - mse: 1841.3503 - val_loss: 1922.2656 - val_mse: 1922.2656\n",
            "Epoch 20/20\n",
            "200/200 [==============================] - 4s 22ms/step - loss: 1809.9811 - mse: 1809.9812 - val_loss: 1889.4834 - val_mse: 1889.4834\n"
          ]
        }
      ],
      "source": [
        "# Fit Model to Endorsements predictions\n",
        "\n",
        "simple = model.fit(\n",
        "    x_train, \n",
        "    y_train, # Internal\n",
        "    batch_size=8, \n",
        "    epochs=20,\n",
        "    validation_data=(\n",
        "        x_test, \n",
        "        y_test # Internal\n",
        "    )\n",
        ")"
      ]
    },
    {
      "cell_type": "code",
      "execution_count": 33,
      "metadata": {},
      "outputs": [
        {
          "data": {
            "image/png": "[encoded data removed]",
            "text/plain": [
              "<Figure size 432x288 with 1 Axes>"
            ]
          },
          "metadata": {
            "needs_background": "light"
          },
          "output_type": "display_data"
        }
      ],
      "source": [
        "# Plot performance\n",
        "\n",
        "from matplotlib import pyplot as plt\n",
        "\n",
        "x = range(20)\n",
        "plt.plot(x, simple.history['mse'], label=\"Mean Square Error\")\n",
        "\n",
        "plt.title(\"Training Loss: MSE\")\n",
        "plt.legend(loc='center left', bbox_to_anchor=(1, 0.5))\n",
        "plt.show()\n",
        "\n"
      ]
    },
    {
      "cell_type": "markdown",
      "metadata": {},
      "source": [
        "# Predict External"
      ]
    },
    {
      "cell_type": "code",
      "execution_count": 36,
      "metadata": {},
      "outputs": [
        {
          "name": "stdout",
          "output_type": "stream",
          "text": [
            "count    250.000000\n",
            "mean       3.257648\n",
            "std        1.798860\n",
            "min        0.000000\n",
            "25%        2.050000\n",
            "50%        2.527000\n",
            "75%        3.755500\n",
            "max       10.171000\n",
            "Name: External, dtype: float64\n"
          ]
        },
        {
          "data": {
            "text/plain": [
              "<matplotlib.axes._subplots.AxesSubplot at 0x22386ad0a20>"
            ]
          },
          "execution_count": 36,
          "metadata": {},
          "output_type": "execute_result"
        },
        {
          "data": {
            "image/png": "[encoded data removed]",
            "text/plain": [
              "<Figure size 432x288 with 1 Axes>"
            ]
          },
          "metadata": {
            "needs_background": "light"
          },
          "output_type": "display_data"
        }
      ],
      "source": [
        "# Plot External Distribution\n",
        "\n",
        "print(data.External.describe())\n",
        "\n",
        "data.External.plot.hist()"
      ]
    },
    {
      "cell_type": "code",
      "execution_count": 37,
      "metadata": {},
      "outputs": [
        {
          "name": "stdout",
          "output_type": "stream",
          "text": [
            "(200, 324)\n",
            "(50, 324)\n",
            "(200, 1)\n",
            "(50, 1)\n"
          ]
        }
      ],
      "source": [
        "# split data on external\n",
        "\n",
        "x_train, x_test, y_train, y_test = split_data(matrix_indices, 'External')\n",
        "\n",
        "print(x_train.shape)\n",
        "print(x_test.shape)\n",
        "print(y_train.shape)\n",
        "print(y_test.shape)"
      ]
    },
    {
      "cell_type": "code",
      "execution_count": 40,
      "metadata": {},
      "outputs": [
        {
          "ename": "ValueError",
          "evalue": "\"input_length\" is 324, but received input has shape (None, 324, 1, 50)",
          "output_type": "error",
          "traceback": [
            "\u001b[1;31m---------------------------------------------------------------------------\u001b[0m",
            "\u001b[1;31mValueError\u001b[0m                                Traceback (most recent call last)",
            "\u001b[1;32m<ipython-input-40-fc01fe889111>\u001b[0m in \u001b[0;36m<module>\u001b[1;34m()\u001b[0m\n\u001b[0;32m      8\u001b[0m         \u001b[0moutput_dim\u001b[0m \u001b[1;33m=\u001b[0m \u001b[1;36m50\u001b[0m\u001b[1;33m,\u001b[0m\u001b[1;33m\u001b[0m\u001b[1;33m\u001b[0m\u001b[0m\n\u001b[0;32m      9\u001b[0m         \u001b[0minput_length\u001b[0m \u001b[1;33m=\u001b[0m \u001b[0mmax_len_row\u001b[0m\u001b[1;33m,\u001b[0m\u001b[1;33m\u001b[0m\u001b[1;33m\u001b[0m\u001b[0m\n\u001b[1;32m---> 10\u001b[1;33m         \u001b[0mweights\u001b[0m \u001b[1;33m=\u001b[0m \u001b[1;33m[\u001b[0m\u001b[0membedding_matrix\u001b[0m\u001b[1;33m]\u001b[0m\u001b[1;33m,\u001b[0m\u001b[1;33m\u001b[0m\u001b[1;33m\u001b[0m\u001b[0m\n\u001b[0m\u001b[0;32m     11\u001b[0m \u001b[1;33m\u001b[0m\u001b[0m\n\u001b[0;32m     12\u001b[0m     )\n",
            "\u001b[1;32mC:\\Users\\olive\\anaconda3\\envs\\nlp_tf\\lib\\site-packages\\keras\\engine\\sequential.py\u001b[0m in \u001b[0;36madd\u001b[1;34m(self, layer)\u001b[0m\n\u001b[0;32m    180\u001b[0m                 \u001b[0mself\u001b[0m\u001b[1;33m.\u001b[0m\u001b[0minputs\u001b[0m \u001b[1;33m=\u001b[0m \u001b[0mnetwork\u001b[0m\u001b[1;33m.\u001b[0m\u001b[0mget_source_inputs\u001b[0m\u001b[1;33m(\u001b[0m\u001b[0mself\u001b[0m\u001b[1;33m.\u001b[0m\u001b[0moutputs\u001b[0m\u001b[1;33m[\u001b[0m\u001b[1;36m0\u001b[0m\u001b[1;33m]\u001b[0m\u001b[1;33m)\u001b[0m\u001b[1;33m\u001b[0m\u001b[1;33m\u001b[0m\u001b[0m\n\u001b[0;32m    181\u001b[0m         \u001b[1;32melif\u001b[0m \u001b[0mself\u001b[0m\u001b[1;33m.\u001b[0m\u001b[0moutputs\u001b[0m\u001b[1;33m:\u001b[0m\u001b[1;33m\u001b[0m\u001b[1;33m\u001b[0m\u001b[0m\n\u001b[1;32m--> 182\u001b[1;33m             \u001b[0moutput_tensor\u001b[0m \u001b[1;33m=\u001b[0m \u001b[0mlayer\u001b[0m\u001b[1;33m(\u001b[0m\u001b[0mself\u001b[0m\u001b[1;33m.\u001b[0m\u001b[0moutputs\u001b[0m\u001b[1;33m[\u001b[0m\u001b[1;36m0\u001b[0m\u001b[1;33m]\u001b[0m\u001b[1;33m)\u001b[0m\u001b[1;33m\u001b[0m\u001b[1;33m\u001b[0m\u001b[0m\n\u001b[0m\u001b[0;32m    183\u001b[0m             \u001b[1;32mif\u001b[0m \u001b[0misinstance\u001b[0m\u001b[1;33m(\u001b[0m\u001b[0moutput_tensor\u001b[0m\u001b[1;33m,\u001b[0m \u001b[0mlist\u001b[0m\u001b[1;33m)\u001b[0m\u001b[1;33m:\u001b[0m\u001b[1;33m\u001b[0m\u001b[1;33m\u001b[0m\u001b[0m\n\u001b[0;32m    184\u001b[0m                 raise TypeError('All layers in a Sequential model '\n",
            "\u001b[1;32mC:\\Users\\olive\\anaconda3\\envs\\nlp_tf\\lib\\site-packages\\keras\\backend\\tensorflow_backend.py\u001b[0m in \u001b[0;36msymbolic_fn_wrapper\u001b[1;34m(*args, **kwargs)\u001b[0m\n\u001b[0;32m     73\u001b[0m         \u001b[1;32mif\u001b[0m \u001b[0m_SYMBOLIC_SCOPE\u001b[0m\u001b[1;33m.\u001b[0m\u001b[0mvalue\u001b[0m\u001b[1;33m:\u001b[0m\u001b[1;33m\u001b[0m\u001b[1;33m\u001b[0m\u001b[0m\n\u001b[0;32m     74\u001b[0m             \u001b[1;32mwith\u001b[0m \u001b[0mget_graph\u001b[0m\u001b[1;33m(\u001b[0m\u001b[1;33m)\u001b[0m\u001b[1;33m.\u001b[0m\u001b[0mas_default\u001b[0m\u001b[1;33m(\u001b[0m\u001b[1;33m)\u001b[0m\u001b[1;33m:\u001b[0m\u001b[1;33m\u001b[0m\u001b[1;33m\u001b[0m\u001b[0m\n\u001b[1;32m---> 75\u001b[1;33m                 \u001b[1;32mreturn\u001b[0m \u001b[0mfunc\u001b[0m\u001b[1;33m(\u001b[0m\u001b[1;33m*\u001b[0m\u001b[0margs\u001b[0m\u001b[1;33m,\u001b[0m \u001b[1;33m**\u001b[0m\u001b[0mkwargs\u001b[0m\u001b[1;33m)\u001b[0m\u001b[1;33m\u001b[0m\u001b[1;33m\u001b[0m\u001b[0m\n\u001b[0m\u001b[0;32m     76\u001b[0m         \u001b[1;32melse\u001b[0m\u001b[1;33m:\u001b[0m\u001b[1;33m\u001b[0m\u001b[1;33m\u001b[0m\u001b[0m\n\u001b[0;32m     77\u001b[0m             \u001b[1;32mreturn\u001b[0m \u001b[0mfunc\u001b[0m\u001b[1;33m(\u001b[0m\u001b[1;33m*\u001b[0m\u001b[0margs\u001b[0m\u001b[1;33m,\u001b[0m \u001b[1;33m**\u001b[0m\u001b[0mkwargs\u001b[0m\u001b[1;33m)\u001b[0m\u001b[1;33m\u001b[0m\u001b[1;33m\u001b[0m\u001b[0m\n",
            "\u001b[1;32mC:\\Users\\olive\\anaconda3\\envs\\nlp_tf\\lib\\site-packages\\keras\\engine\\base_layer.py\u001b[0m in \u001b[0;36m__call__\u001b[1;34m(self, inputs, **kwargs)\u001b[0m\n\u001b[0;32m    504\u001b[0m             if all([s is not None\n\u001b[0;32m    505\u001b[0m                     for s in to_list(input_shape)]):\n\u001b[1;32m--> 506\u001b[1;33m                 \u001b[0moutput_shape\u001b[0m \u001b[1;33m=\u001b[0m \u001b[0mself\u001b[0m\u001b[1;33m.\u001b[0m\u001b[0mcompute_output_shape\u001b[0m\u001b[1;33m(\u001b[0m\u001b[0minput_shape\u001b[0m\u001b[1;33m)\u001b[0m\u001b[1;33m\u001b[0m\u001b[1;33m\u001b[0m\u001b[0m\n\u001b[0m\u001b[0;32m    507\u001b[0m             \u001b[1;32melse\u001b[0m\u001b[1;33m:\u001b[0m\u001b[1;33m\u001b[0m\u001b[1;33m\u001b[0m\u001b[0m\n\u001b[0;32m    508\u001b[0m                 \u001b[1;32mif\u001b[0m \u001b[0misinstance\u001b[0m\u001b[1;33m(\u001b[0m\u001b[0minput_shape\u001b[0m\u001b[1;33m,\u001b[0m \u001b[0mlist\u001b[0m\u001b[1;33m)\u001b[0m\u001b[1;33m:\u001b[0m\u001b[1;33m\u001b[0m\u001b[1;33m\u001b[0m\u001b[0m\n",
            "\u001b[1;32mC:\\Users\\olive\\anaconda3\\envs\\nlp_tf\\lib\\site-packages\\keras\\layers\\embeddings.py\u001b[0m in \u001b[0;36mcompute_output_shape\u001b[1;34m(self, input_shape)\u001b[0m\n\u001b[0;32m    128\u001b[0m                 raise ValueError(\n\u001b[0;32m    129\u001b[0m                     \u001b[1;34m'\"input_length\" is %s, but received input has shape %s'\u001b[0m \u001b[1;33m%\u001b[0m\u001b[1;33m\u001b[0m\u001b[1;33m\u001b[0m\u001b[0m\n\u001b[1;32m--> 130\u001b[1;33m                     (str(self.input_length), str(input_shape)))\n\u001b[0m\u001b[0;32m    131\u001b[0m             \u001b[1;32melse\u001b[0m\u001b[1;33m:\u001b[0m\u001b[1;33m\u001b[0m\u001b[1;33m\u001b[0m\u001b[0m\n\u001b[0;32m    132\u001b[0m                 \u001b[1;32mfor\u001b[0m \u001b[0mi\u001b[0m\u001b[1;33m,\u001b[0m \u001b[1;33m(\u001b[0m\u001b[0ms1\u001b[0m\u001b[1;33m,\u001b[0m \u001b[0ms2\u001b[0m\u001b[1;33m)\u001b[0m \u001b[1;32min\u001b[0m \u001b[0menumerate\u001b[0m\u001b[1;33m(\u001b[0m\u001b[0mzip\u001b[0m\u001b[1;33m(\u001b[0m\u001b[0min_lens\u001b[0m\u001b[1;33m,\u001b[0m \u001b[0minput_shape\u001b[0m\u001b[1;33m[\u001b[0m\u001b[1;36m1\u001b[0m\u001b[1;33m:\u001b[0m\u001b[1;33m]\u001b[0m\u001b[1;33m)\u001b[0m\u001b[1;33m)\u001b[0m\u001b[1;33m:\u001b[0m\u001b[1;33m\u001b[0m\u001b[1;33m\u001b[0m\u001b[0m\n",
            "\u001b[1;31mValueError\u001b[0m: \"input_length\" is 324, but received input has shape (None, 324, 1, 50)"
          ]
        }
      ],
      "source": [
        "# Build Model for External\n",
        "\n",
        "model_external = Sequential()\n",
        "\n",
        "model_internal.add(\n",
        "    Embedding(\n",
        "        input_dim = len(word2index),\n",
        "        output_dim = 50,\n",
        "        input_length = max_len_row,\n",
        "        weights = [embedding_matrix],\n",
        "        \n",
        "    )\n",
        ")\n",
        "\n",
        "# Add a Simple RNN Layer\n",
        "model_external.add(SimpleRNN(\n",
        "    300,                    # Positive integer, dimensionality of the output space.\n",
        "    return_sequences=True  # Boolean. Whether to return the last output in the output sequence, or the full sequence.\n",
        "))\n",
        "\n",
        "# Add a Dense Layer\n",
        "model_external.add(Dense(\n",
        "    1,                       # Positive integer, dimensionality of the output space.\n",
        "    activation=\"relu\"        # Activation function to use. If you don't specify anything, no activation is applied\n",
        "))\n",
        "\n",
        "\n",
        "model_external.compile(loss='mae',           # Loss function. Maybe be a string (name of loss function), or a tf.keras.losses.Loss instance.\n",
        "              optimizer='adam',     # String (name of optimizer) or optimizer instance.\n",
        "              metrics=['mse', 'mae'])      # List of metrics to be evaluated by the model during training and testing. \n",
        "model_external.summary()"
      ]
    },
    {
      "cell_type": "code",
      "execution_count": 41,
      "metadata": {},
      "outputs": [
        {
          "name": "stdout",
          "output_type": "stream",
          "text": [
            "Train on 200 samples, validate on 50 samples\n",
            "Epoch 1/20\n",
            "200/200 [==============================] - 5s 24ms/step - loss: 1592.8203 - mse: 1592.8203 - val_loss: 1689.6213 - val_mse: 1689.6215\n",
            "Epoch 2/20\n",
            "200/200 [==============================] - 5s 24ms/step - loss: 1564.4730 - mse: 1564.4728 - val_loss: 1659.9374 - val_mse: 1659.9374\n",
            "Epoch 3/20\n",
            "200/200 [==============================] - 5s 23ms/step - loss: 1536.4126 - mse: 1536.4125 - val_loss: 1630.8581 - val_mse: 1630.8582\n",
            "Epoch 4/20\n",
            "200/200 [==============================] - 5s 24ms/step - loss: 1508.7956 - mse: 1508.7954 - val_loss: 1601.3966 - val_mse: 1601.3966\n",
            "Epoch 5/20\n",
            "200/200 [==============================] - 5s 24ms/step - loss: 1481.1160 - mse: 1481.1160 - val_loss: 1572.0084 - val_mse: 1572.0084\n",
            "Epoch 6/20\n",
            "200/200 [==============================] - 5s 23ms/step - loss: 1453.6492 - mse: 1453.6492 - val_loss: 1542.4231 - val_mse: 1542.4231\n",
            "Epoch 7/20\n",
            "200/200 [==============================] - 5s 23ms/step - loss: 1426.2469 - mse: 1426.2468 - val_loss: 1512.8433 - val_mse: 1512.8433\n",
            "Epoch 8/20\n",
            "200/200 [==============================] - 5s 24ms/step - loss: 1398.4351 - mse: 1398.4351 - val_loss: 1484.6411 - val_mse: 1484.6410\n",
            "Epoch 9/20\n",
            "200/200 [==============================] - 5s 23ms/step - loss: 1371.5804 - mse: 1371.5803 - val_loss: 1455.6219 - val_mse: 1455.6218\n",
            "Epoch 10/20\n",
            "200/200 [==============================] - 5s 23ms/step - loss: 1344.5354 - mse: 1344.5353 - val_loss: 1426.6924 - val_mse: 1426.6925\n",
            "Epoch 11/20\n",
            "200/200 [==============================] - 5s 23ms/step - loss: 1324.0609 - mse: 1324.0609 - val_loss: 1428.6588 - val_mse: 1428.6589\n",
            "Epoch 12/20\n",
            "200/200 [==============================] - 5s 23ms/step - loss: 1297.0031 - mse: 1297.0032 - val_loss: 1399.5814 - val_mse: 1399.5814\n",
            "Epoch 13/20\n",
            "200/200 [==============================] - 5s 23ms/step - loss: 1270.0506 - mse: 1270.0504 - val_loss: 1370.8806 - val_mse: 1370.8805\n",
            "Epoch 14/20\n",
            "200/200 [==============================] - 5s 23ms/step - loss: 1243.5086 - mse: 1243.5085 - val_loss: 1341.9085 - val_mse: 1341.9084\n",
            "Epoch 15/20\n",
            "200/200 [==============================] - 5s 23ms/step - loss: 1210.3664 - mse: 1210.3665 - val_loss: 1312.8653 - val_mse: 1312.8654\n",
            "Epoch 16/20\n",
            "200/200 [==============================] - 5s 23ms/step - loss: 1183.9086 - mse: 1183.9087 - val_loss: 1285.1459 - val_mse: 1285.1458\n",
            "Epoch 17/20\n",
            "200/200 [==============================] - 5s 23ms/step - loss: 1158.2978 - mse: 1158.2979 - val_loss: 1257.0185 - val_mse: 1257.0186\n",
            "Epoch 18/20\n",
            "200/200 [==============================] - 5s 25ms/step - loss: 1132.5692 - mse: 1132.5693 - val_loss: 1229.3534 - val_mse: 1229.3534\n",
            "Epoch 19/20\n",
            "200/200 [==============================] - 5s 25ms/step - loss: 1100.4746 - mse: 1100.4747 - val_loss: 1201.8405 - val_mse: 1201.8406\n",
            "Epoch 20/20\n",
            "200/200 [==============================] - 5s 24ms/step - loss: 1081.6815 - mse: 1081.6814 - val_loss: 1174.9018 - val_mse: 1174.9019\n"
          ]
        }
      ],
      "source": [
        "# Fit Model to Endorsements predictions\n",
        "\n",
        "simple_external = model.fit(\n",
        "    x_train, \n",
        "    y_train, # Endorsements\n",
        "    batch_size=8, \n",
        "    epochs=20,\n",
        "    validation_data=(\n",
        "        x_test, \n",
        "        y_test # Endorsements\n",
        "    )\n",
        ")"
      ]
    },
    {
      "cell_type": "code",
      "execution_count": 42,
      "metadata": {},
      "outputs": [
        {
          "data": {
            "image/png": "[encoded data removed]",
            "text/plain": [
              "<Figure size 432x288 with 1 Axes>"
            ]
          },
          "metadata": {
            "needs_background": "light"
          },
          "output_type": "display_data"
        }
      ],
      "source": [
        "# Plot performance\n",
        "\n",
        "from matplotlib import pyplot as plt\n",
        "\n",
        "x = range(20)\n",
        "plt.plot(x, simple.history['mse'], label=\"Mean Square Error\")\n",
        "\n",
        "plt.title(\"Training Loss: MSE\")\n",
        "plt.legend(loc='center left', bbox_to_anchor=(1, 0.5))\n",
        "plt.show()"
      ]
    }
  ],
  "metadata": {
    "accelerator": "GPU",
    "colab": {
      "collapsed_sections": [],
      "name": "NLP_HW4_REDO.ipynb",
      "provenance": []
    },
    "kernelspec": {
      "display_name": "Python 3",
      "name": "python3"
    },
    "language_info": {
      "codemirror_mode": {
        "name": "ipython",
        "version": 3
      },
      "file_extension": ".py",
      "mimetype": "text/x-python",
      "name": "python",
      "nbconvert_exporter": "python",
      "pygments_lexer": "ipython3",
      "version": "3.6.13"
    }
  },
  "nbformat": 4,
  "nbformat_minor": 0
}
